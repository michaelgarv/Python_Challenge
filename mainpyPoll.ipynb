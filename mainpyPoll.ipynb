{
 "cells": [
  {
   "cell_type": "code",
   "execution_count": 99,
   "id": "c444bd53",
   "metadata": {},
   "outputs": [],
   "source": [
    "#import\n",
    "import os\n",
    "import csv"
   ]
  },
  {
   "cell_type": "code",
   "execution_count": 100,
   "id": "99ee8cb2",
   "metadata": {},
   "outputs": [
    {
     "data": {
      "text/plain": [
       "'Starter_Code\\\\Instructions\\\\PyPoll\\\\Resources\\\\election_data.csv'"
      ]
     },
     "execution_count": 100,
     "metadata": {},
     "output_type": "execute_result"
    }
   ],
   "source": [
    "#set file path\n",
    "poll_csv = os.path.join('Starter_Code','Instructions','PyPoll','Resources','election_data.csv')\n",
    "poll_csv"
   ]
  },
  {
   "cell_type": "code",
   "execution_count": 101,
   "id": "01dabf02",
   "metadata": {},
   "outputs": [],
   "source": [
    "#variables\n",
    "votes = 0\n",
    "stockham = 0\n",
    "degette = 0\n",
    "doane = 0"
   ]
  },
  {
   "cell_type": "code",
   "execution_count": 102,
   "id": "cfcf6ad6",
   "metadata": {},
   "outputs": [
    {
     "data": {
      "text/plain": [
       "272892"
      ]
     },
     "execution_count": 102,
     "metadata": {},
     "output_type": "execute_result"
    }
   ],
   "source": [
    "#open file\n",
    "with open(poll_csv) as csvfile:\n",
    "    csvreader = csv.DictReader(csvfile)\n",
    "    #calculate total votes\n",
    "    for row in csvreader:\n",
    "            votes += 1  \n",
    "            #calc total votes for each candidate\n",
    "            if row[\"Candidate\"]== \"Charles Casper Stockham\":\n",
    "                stockham+=1\n",
    "            elif row[\"Candidate\"]==\"Diana DeGette\":\n",
    "                degette+=1\n",
    "            elif row[\"Candidate\"]==\"Raymon Anthony Doane\":\n",
    "                doane+=1\n",
    "      #convert to percent      \n",
    "stockham_percent ='%.2f%%'  % (stockham/votes*100)\n",
    "degette_percent ='%.2f%%'  % (degette/votes*100)\n",
    "doane_percent ='%.2f%%'  % (doane/votes*100)\n",
    "winner=max(stockham,degette,doane)\n",
    "winner"
   ]
  },
  {
   "cell_type": "code",
   "execution_count": 103,
   "id": "c2cb08ab",
   "metadata": {},
   "outputs": [
    {
     "name": "stdout",
     "output_type": "stream",
     "text": [
      "Election Results\n",
      "----------------------------\n",
      "Total Votes:369711\n",
      "----------------------------\n",
      "Stockham Votes 23.05% (85213)\n",
      "Degette Votes: 73.81% (272892)\n",
      "Doane Votes: 3.14% (11606)\n",
      "----------------------------\n",
      "Winner: Degette\n"
     ]
    }
   ],
   "source": [
    "print(\"Election Results\")\n",
    "print(\"----------------------------\")\n",
    "print(f'Total Votes:{votes}')\n",
    "print(\"----------------------------\")\n",
    "print(f'Stockham Votes {stockham_percent} ({stockham})')\n",
    "print(f'Degette Votes: {degette_percent} ({degette})')\n",
    "print(f'Doane Votes: {doane_percent} ({doane})')\n",
    "print(\"----------------------------\")\n",
    "print(f'Winner: Degette')"
   ]
  },
  {
   "cell_type": "code",
   "execution_count": 106,
   "id": "68e84133",
   "metadata": {},
   "outputs": [],
   "source": [
    "with open('outputPyPoll.txt','w') as f:\n",
    "    print(\"Election Results\",file=f)\n",
    "    print(\"----------------------------\",file=f)\n",
    "    print(f'Total Votes:{votes}',file=f)\n",
    "    print(\"----------------------------\",file=f)\n",
    "    print(f'Stockham Votes {stockham_percent} ({stockham})',file=f)\n",
    "    print(f'Degette Votes: {degette_percent} ({degette})',file=f)\n",
    "    print(f'Doane Votes: {doane_percent} ({doane})',file=f)\n",
    "    print(\"----------------------------\",file=f)\n",
    "    print(f'Winner: Degette',file=f)"
   ]
  },
  {
   "cell_type": "code",
   "execution_count": null,
   "id": "a705f63c",
   "metadata": {},
   "outputs": [],
   "source": []
  },
  {
   "cell_type": "code",
   "execution_count": null,
   "id": "23d57f78",
   "metadata": {},
   "outputs": [],
   "source": []
  }
 ],
 "metadata": {
  "kernelspec": {
   "display_name": "Python 3 (ipykernel)",
   "language": "python",
   "name": "python3"
  },
  "language_info": {
   "codemirror_mode": {
    "name": "ipython",
    "version": 3
   },
   "file_extension": ".py",
   "mimetype": "text/x-python",
   "name": "python",
   "nbconvert_exporter": "python",
   "pygments_lexer": "ipython3",
   "version": "3.9.13"
  }
 },
 "nbformat": 4,
 "nbformat_minor": 5
}
