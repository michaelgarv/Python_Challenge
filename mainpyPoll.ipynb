{
 "cells": [
  {
   "cell_type": "code",
   "execution_count": 24,
   "id": "0aa857c2",
   "metadata": {},
   "outputs": [],
   "source": [
    "#import\n",
    "import os\n",
    "import csv"
   ]
  },
  {
   "cell_type": "code",
   "execution_count": 25,
   "id": "a12d913d",
   "metadata": {},
   "outputs": [
    {
     "data": {
      "text/plain": [
       "'Starter_Code\\\\Instructions\\\\PyPoll\\\\Resources\\\\election_data.csv'"
      ]
     },
     "execution_count": 25,
     "metadata": {},
     "output_type": "execute_result"
    }
   ],
   "source": [
    "#set file path\n",
    "poll_csv = os.path.join('Starter_Code','Instructions','PyPoll','Resources','election_data.csv')\n",
    "poll_csv"
   ]
  },
  {
   "cell_type": "code",
   "execution_count": 26,
   "id": "667dadca",
   "metadata": {},
   "outputs": [],
   "source": [
    "#variables\n",
    "votes = 0\n"
   ]
  },
  {
   "cell_type": "code",
   "execution_count": 37,
   "id": "4a73be6a",
   "metadata": {},
   "outputs": [
    {
     "data": {
      "text/plain": [
       "1109133"
      ]
     },
     "execution_count": 37,
     "metadata": {},
     "output_type": "execute_result"
    }
   ],
   "source": [
    "#open file\n",
    "with open(poll_csv) as csvfile:\n",
    "     csvreader = csv.DictReader(csvfile)\n",
    "     for row in csvreader:\n",
    "        votes += 1\n",
    " \n",
    "  \n",
    "votes\n",
    "\n"
   ]
  },
  {
   "cell_type": "code",
   "execution_count": null,
   "id": "dd5c9ca9",
   "metadata": {},
   "outputs": [],
   "source": []
  }
 ],
 "metadata": {
  "kernelspec": {
   "display_name": "Python 3 (ipykernel)",
   "language": "python",
   "name": "python3"
  },
  "language_info": {
   "codemirror_mode": {
    "name": "ipython",
    "version": 3
   },
   "file_extension": ".py",
   "mimetype": "text/x-python",
   "name": "python",
   "nbconvert_exporter": "python",
   "pygments_lexer": "ipython3",
   "version": "3.9.13"
  }
 },
 "nbformat": 4,
 "nbformat_minor": 5
}
