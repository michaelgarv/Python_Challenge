{
 "cells": [
  {
   "cell_type": "code",
   "execution_count": 89,
   "id": "18be0c49",
   "metadata": {},
   "outputs": [
    {
     "data": {
      "text/plain": [
       "'C:\\\\Users\\\\micha\\\\DataClass\\\\Python_Challenge'"
      ]
     },
     "execution_count": 89,
     "metadata": {},
     "output_type": "execute_result"
    }
   ],
   "source": [
    "#import\n",
    "import os\n",
    "import csv"
   ]
  },
  {
   "cell_type": "code",
   "execution_count": 90,
   "id": "07575a25",
   "metadata": {},
   "outputs": [
    {
     "data": {
      "text/plain": [
       "'Starter_Code\\\\Instructions\\\\PyBank\\\\Resources\\\\budget_data.csv'"
      ]
     },
     "execution_count": 90,
     "metadata": {},
     "output_type": "execute_result"
    }
   ],
   "source": [
    "#set file path\n",
    "budget_data_csv = os.path.join('Starter_Code','Instructions','PyBank','Resources','budget_data.csv')\n",
    "budget_data_csv"
   ]
  },
  {
   "cell_type": "code",
   "execution_count": 91,
   "id": "2c0fb2b7",
   "metadata": {},
   "outputs": [],
   "source": [
    "#variables\n",
    "months = 0\n",
    "revenue_tot = 0\n",
    "max_change = None\n",
    "min_change = None"
   ]
  },
  {
   "cell_type": "code",
   "execution_count": 95,
   "id": "2e44093f",
   "metadata": {},
   "outputs": [],
   "source": [
    "#open csv\n",
    "with open(budget_data_csv) as csvfile:\n",
    "    csvreader = csv.DictReader(csvfile)\n",
    "    \n",
    "    \n",
    "    #loop to find total months\n",
    "    for row in csvreader:\n",
    "        months += 1\n",
    "        #calculate total revenue\n",
    "        revenue_tot = revenue_tot+int(row[\"Profit/Losses\"])\n",
    "        #calculate average change in revenue\n",
    "        avg_change = revenue_tot/months\n",
    "        #max change\n",
    "        value = float(row['Profit/Losses'])\n",
    "        if max_change is None or value > max_change:\n",
    "            max_change = value\n",
    "        #min change\n",
    "        if min_change is None or value < min_change:\n",
    "            min_change = value"
   ]
  },
  {
   "cell_type": "code",
   "execution_count": 96,
   "id": "4ab4b76f",
   "metadata": {},
   "outputs": [
    {
     "name": "stdout",
     "output_type": "stream",
     "text": [
      "Total Months 89\n",
      "Total Revenue $25831147\n",
      "Average Change 290237.606741573\n",
      "Greatest increase 1141840.0\n",
      "Greatest Decrease -1194133.0\n"
     ]
    }
   ],
   "source": [
    "print(f'Total Months {months}')\n",
    "print(f'Total Revenue ${revenue_tot}')\n",
    "print(f'Average Change {avg_change}')\n",
    "print(f'Greatest increase {max_change}')\n",
    "print(f'Greatest Decrease {min_change}')\n"
   ]
  },
  {
   "cell_type": "code",
   "execution_count": 98,
   "id": "278cb05e",
   "metadata": {},
   "outputs": [],
   "source": [
    "with open('outputPyBank.txt','w') as f:\n",
    "    print(f'Total Months {months}',file=f)\n",
    "    print(f'Total Revenue ${revenue_tot}',file=f)\n",
    "    print(f'Average Change {avg_change}',file=f)\n",
    "    print(f'Greatest increase {max_change}',file=f)\n",
    "    print(f'Greatest Decrease {min_change}',file=f)\n"
   ]
  },
  {
   "cell_type": "code",
   "execution_count": null,
   "id": "0e2a845d",
   "metadata": {},
   "outputs": [],
   "source": []
  }
 ],
 "metadata": {
  "kernelspec": {
   "display_name": "Python 3 (ipykernel)",
   "language": "python",
   "name": "python3"
  },
  "language_info": {
   "codemirror_mode": {
    "name": "ipython",
    "version": 3
   },
   "file_extension": ".py",
   "mimetype": "text/x-python",
   "name": "python",
   "nbconvert_exporter": "python",
   "pygments_lexer": "ipython3",
   "version": "3.9.13"
  }
 },
 "nbformat": 4,
 "nbformat_minor": 5
}
